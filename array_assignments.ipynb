{
 "cells": [
  {
   "cell_type": "code",
   "execution_count": null,
   "id": "5b6aa45d-f8de-4a65-b82d-203136ac3b0c",
   "metadata": {},
   "outputs": [],
   "source": []
  }
 ],
 "metadata": {
  "kernelspec": {
   "display_name": "",
   "name": ""
  },
  "language_info": {
   "name": ""
  }
 },
 "nbformat": 4,
 "nbformat_minor": 5
}
