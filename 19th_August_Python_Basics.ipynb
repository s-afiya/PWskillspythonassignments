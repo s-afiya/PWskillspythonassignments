{
 "cells": [
  {
   "cell_type": "code",
   "execution_count": 1,
   "id": "f9a90fc7-7aba-4285-849b-9bff0c8f4646",
   "metadata": {},
   "outputs": [
    {
     "name": "stdout",
     "output_type": "stream",
     "text": [
      "x equals  8\n",
      "y equals  10\n"
     ]
    }
   ],
   "source": [
    "#Python Basic Variables\n",
    "#1.Declare two variables, `x` and `y`, and assign them integer values. Swap the\n",
    "#values of these variables without using any temporary variable.\n",
    "\n",
    "x = 10\n",
    "y = 8\n",
    "#Two variables 'x' and 'y' are declared and mentioning datatypes is not required in python hence it is understood that \n",
    "#values assigned to 'x' and 'y' are integer values.\n",
    "\n",
    "x,y = (y,x)\n",
    "#Is the same as: x,y = y,x\n",
    "#Done to swap both values without using temporary variable\n",
    "\n",
    "print('x equals ',x)\n",
    "print('y equals ',y)\n",
    "#Printing the swapped values\n"
   ]
  },
  {
   "cell_type": "code",
   "execution_count": 2,
   "id": "b68c78a1-0442-41e9-98c1-63b97925c027",
   "metadata": {},
   "outputs": [
    {
     "name": "stdin",
     "output_type": "stream",
     "text": [
      "Please Enter the Length of a Rectangle: 10\n",
      "Please Enter the Width of a Rectangle: 6\n"
     ]
    },
    {
     "name": "stdout",
     "output_type": "stream",
     "text": [
      "The Area of a Rectangle =  60.0\n"
     ]
    }
   ],
   "source": [
    "#2.Create a program that calculates the area of a rectangle. Take the length andwidth as inputs from the user and store them in variables. \n",
    "#Calculate and display the area.\n",
    "\n",
    "\n",
    "#Taking the 'length' and 'width' input from the user \n",
    "length = float(input('Please Enter the Length of a Rectangle:'))\n",
    "width = float(input('Please Enter the Width of a Rectangle:'))\n",
    "\n",
    "#Storing the inputs in variables 'x' and 'y'\n",
    "x=length\n",
    "y=width\n",
    "\n",
    "#Calculating the area \n",
    "area = x * y\n",
    "\n",
    "#Displaying the area\n",
    "print(\"The Area of a Rectangle =\",area)"
   ]
  },
  {
   "cell_type": "code",
   "execution_count": 3,
   "id": "cce7d7ec-b0eb-435f-a079-99ff492b9085",
   "metadata": {},
   "outputs": [
    {
     "name": "stdin",
     "output_type": "stream",
     "text": [
      "Please enter the temperature in celsius 30\n"
     ]
    },
    {
     "name": "stdout",
     "output_type": "stream",
     "text": [
      "30.0 degree Celsius is equal to 86.0 degree Fahrenheit\n"
     ]
    }
   ],
   "source": [
    "#3. Write a Python program that converts temperatures from Celsius to Fahrenheit. Take the temperature in Celsius as input, store it in a variable,\n",
    "#convert it to Fahrenheit, and display the result.\n",
    "\n",
    "\n",
    "#Taking the temperature in Celsius as input from the user and storing it in 'celsius' varaible\n",
    "celsius= float(input(('Please enter the temperature in celsius')))\n",
    "\n",
    "#Storing the celsius value in variable 'x'\n",
    "x=celsius\n",
    "\n",
    "#Converting celsius into fahrenheit\n",
    "fahrenheit = (x * 1.8) + 32\n",
    "\n",
    "#Displaying the result\n",
    "print('%0.1f degree Celsius is equal to %0.1f degree Fahrenheit' %(x,fahrenheit))"
   ]
  },
  {
   "cell_type": "code",
   "execution_count": 9,
   "id": "6cb75066-731e-4883-9442-1394b44c7f29",
   "metadata": {},
   "outputs": [
    {
     "name": "stdin",
     "output_type": "stream",
     "text": [
      "Enter a string:  hello\n"
     ]
    },
    {
     "name": "stdout",
     "output_type": "stream",
     "text": [
      "Length of the input string is: 5\n"
     ]
    },
    {
     "name": "stdin",
     "output_type": "stream",
     "text": [
      "Enter a string:  world\n"
     ]
    },
    {
     "name": "stdout",
     "output_type": "stream",
     "text": [
      "Length of the input string is: 5\n"
     ]
    }
   ],
   "source": [
    "#String Based Questions\n",
    "#1. Write a Python program that takes a string as input and prints the length of the string.\n",
    "\n",
    "\n",
    "#Calculating string length without len() function\n",
    "\n",
    "#Taking string input from the user nd storing it in variable'str'\n",
    "str = input(\"Enter a string:\")\n",
    "\n",
    "#Using the counter variable to count the character in a string\n",
    "counter = 0\n",
    "for s in str:\n",
    "      counter = counter+1\n",
    "        \n",
    "        \n",
    "#Printing the length of the string        \n",
    "print(\"Length of the input string is:\",counter)\n",
    "\n",
    "\n",
    "#Calculating string length with len() function\n",
    "#Taking string input from the user and storing it in variable'str'\n",
    "str = input(\"Enter a string:\")\n",
    "\n",
    "#Using len() function to find length of str\n",
    "print(\"Length of the input string is:\",len(str))\n"
   ]
  },
  {
   "cell_type": "code",
   "execution_count": 10,
   "id": "0e733f5b-6ca2-457a-a1f1-e2eaefdbb5e3",
   "metadata": {},
   "outputs": [
    {
     "name": "stdin",
     "output_type": "stream",
     "text": [
      "Enter a Sentence:  hellosafiyahere\n"
     ]
    },
    {
     "name": "stdout",
     "output_type": "stream",
     "text": [
      "7\n"
     ]
    }
   ],
   "source": [
    "#2. Create a program that takes a sentence from the user and counts the number of vowels (a, e, i, o, u) in the string.\n",
    "\n",
    "\n",
    "#Taking input from the user and storing it in 'str' varaible\n",
    "str = input(\"Enter a Sentence: \")\n",
    "\n",
    "#Assigning (a,e,i,o,u) to vowels variable\n",
    "vowels = \"aeiou\"\n",
    " \n",
    "#Checking the count of variables in the sentence    \n",
    "count = sum(str.count(vowel) for vowel in vowels)\n",
    "\n",
    "#Printing the count of variables in the sentence\n",
    "print(count)\n",
    "\n",
    "\n"
   ]
  },
  {
   "cell_type": "code",
   "execution_count": 13,
   "id": "7b515b34-8723-40b4-a57d-17bce56bdbb5",
   "metadata": {},
   "outputs": [
    {
     "name": "stdout",
     "output_type": "stream",
     "text": [
      "The reversed string after slicing is:  EDCBA\n"
     ]
    }
   ],
   "source": [
    "#3. Given a string, reverse the order of characters using string slicing and print the reversed string.\n",
    "\n",
    "\n",
    "#Given string\n",
    "s=\"ABCDE\"\n",
    "\n",
    "#Calculating the length of the string\n",
    "strlength=len(s)\n",
    "\n",
    "#Slicing the string\n",
    "slicedStr=s[strlength::-1] \n",
    "\n",
    "#Print the reversed string\n",
    "print('The reversed string after slicing is: ',slicedStr) \n"
   ]
  },
  {
   "cell_type": "code",
   "execution_count": 14,
   "id": "28feb38f-ab6c-4577-ab26-02a0c0adde7f",
   "metadata": {},
   "outputs": [
    {
     "name": "stdin",
     "output_type": "stream",
     "text": [
      "Enter a String:  noon\n"
     ]
    },
    {
     "name": "stdout",
     "output_type": "stream",
     "text": [
      "The string is a palindrome.\n"
     ]
    }
   ],
   "source": [
    "#4. Write a program that takes a string as input and checks if it is a palindrome (reads the same forwards and backwards).\n",
    "\n",
    "\n",
    "#Taking input from the user and storing it in 'str' varaible\n",
    "str = input(\"Enter a String: \")\n",
    "\n",
    "#Reverse the input string\n",
    "rev_str = reversed(str)\n",
    "\n",
    "#Checking if the entered string is equal to its reverse and hence a palindrome or not\n",
    "if list(str) == list(rev_str):\n",
    "   print(\"The string is a palindrome.\")\n",
    "else:\n",
    "   print(\"The string is not a palindrome.\")\n"
   ]
  },
  {
   "cell_type": "code",
   "execution_count": 19,
   "id": "662b9e8b-6304-40e9-99ff-9e853eea00d1",
   "metadata": {},
   "outputs": [
    {
     "name": "stdin",
     "output_type": "stream",
     "text": [
      "Enter a String:  hello Safiya here\n"
     ]
    },
    {
     "name": "stdout",
     "output_type": "stream",
     "text": [
      "The modified string without spaces is:  helloSafiyahere\n"
     ]
    }
   ],
   "source": [
    "#5. Create a program that takes a string as input and removes all the spaces from it. Print the modified string without spaces.\n",
    "\n",
    "\n",
    "#Taking input from the user and storing it in 'str' varaible\n",
    "str = input(\"Enter a String: \")\n",
    "\n",
    "#Removing the spaces\n",
    "newstr = str.replace(\" \",\"\")\n",
    "\n",
    "#Printing the modified string\n",
    "print('The modified string without spaces is: ',newstr)"
   ]
  },
  {
   "cell_type": "code",
   "execution_count": null,
   "id": "b4fa37c3-4ae6-4027-9218-c83f464d3219",
   "metadata": {},
   "outputs": [],
   "source": []
  }
 ],
 "metadata": {
  "kernelspec": {
   "display_name": "Python 3 (ipykernel)",
   "language": "python",
   "name": "python3"
  },
  "language_info": {
   "codemirror_mode": {
    "name": "ipython",
    "version": 3
   },
   "file_extension": ".py",
   "mimetype": "text/x-python",
   "name": "python",
   "nbconvert_exporter": "python",
   "pygments_lexer": "ipython3",
   "version": "3.10.8"
  }
 },
 "nbformat": 4,
 "nbformat_minor": 5
}
